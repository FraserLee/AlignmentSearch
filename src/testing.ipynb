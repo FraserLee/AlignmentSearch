{
 "cells": [
  {
   "attachments": {},
   "cell_type": "markdown",
   "metadata": {},
   "source": [
    "# Testing"
   ]
  },
  {
   "attachments": {},
   "cell_type": "markdown",
   "metadata": {},
   "source": [
    "```source: this key separates the various keys found in the table in Sources. Here's the set of sources with their corresponding value name:```\n",
    "```\n",
    "'https://aipulse.org'\n",
    "'ebook'\n",
    "'https://qualiacomputing.com'\n",
    "'alignment forum'\n",
    "'lesswrong'\n",
    "'manual'\n",
    "'arxiv'\n",
    "'https://deepmindsafetyresearch.medium.com/'\n",
    "'waitbutwhy.com'\n",
    "'GitHub'\n",
    "'https://aiimpacts.org'\n",
    "'arbital.com'\n",
    "'carado.moe'\n",
    "'nonarxiv_papers'\n",
    "'https://vkrakovna.wordpress.com'\n",
    "'https://jsteinhardt.wordpress.com'\n",
    "'audio-transcripts'\n",
    "'https://intelligence.org'\n",
    "'youtube'\n",
    "'reports'\n",
    "'https://aisafety.camp'\n",
    "'curriculum'\n",
    "'https://www.yudkowsky.net'\n",
    "'distill'\n",
    "```"
   ]
  },
  {
   "cell_type": "markdown",
   "metadata": {},
   "source": []
  },
  {
   "attachments": {},
   "cell_type": "markdown",
   "metadata": {},
   "source": [
    "## Imports"
   ]
  },
  {
   "cell_type": "code",
   "execution_count": 22,
   "metadata": {},
   "outputs": [],
   "source": [
    "import jsonlines\n",
    "import numpy as np\n",
    "from typing import List, Dict, Tuple"
   ]
  },
  {
   "attachments": {},
   "cell_type": "markdown",
   "metadata": {},
   "source": [
    "## Constants"
   ]
  },
  {
   "cell_type": "code",
   "execution_count": 19,
   "metadata": {},
   "outputs": [],
   "source": [
    "# None"
   ]
  },
  {
   "attachments": {},
   "cell_type": "markdown",
   "metadata": {},
   "source": [
    "## Helpers"
   ]
  },
  {
   "cell_type": "code",
   "execution_count": 20,
   "metadata": {},
   "outputs": [],
   "source": [
    "# None"
   ]
  },
  {
   "attachments": {},
   "cell_type": "markdown",
   "metadata": {},
   "source": [
    "## Dataset Class"
   ]
  },
  {
   "cell_type": "code",
   "execution_count": null,
   "metadata": {},
   "outputs": [],
   "source": [
    "class Dataset:\n",
    "    def __init__(self, path: str, sources: List[str] = None, max_data_length: int = 1e6, find_embeddings: bool = False, len_embeddings: int = 1536):\n",
    "        self.data = {}\n",
    "        self.sources = sources\n",
    "        self.max_data_length = max_data_length\n",
    "        self.len_embeddings = len_embeddings\n",
    "        \n",
    "        self.data = self.load(path, sources, max_data_length)\n",
    "        self.data = self.process()\n",
    "        \n",
    "        self.num_embeddings = len(self.data)\n",
    "        self.embeddings = np.zeros((self.num_embeddings, self.len_embeddings))\n",
    "        if find_embeddings:\n",
    "            self.embeddings = self.get_embeddings()\n",
    "        \n",
    "    def load(self, path: str, sources: List[str], max_data_length: int):\n",
    "        i = 0\n",
    "        with jsonlines.open(path, \"r\") as reader:\n",
    "            for entry in reader:\n",
    "                try:\n",
    "                    if entry['source'] in sources:\n",
    "                        self.data[i] = entry['text']\n",
    "                        i += 1\n",
    "                except KeyError:\n",
    "                    pass\n",
    "        return self.data    \n",
    "                \n",
    "    def process(self):\n",
    "        raise NotImplementedError\n",
    "    \n",
    "    def get_embeddings(self):\n",
    "        raise NotImplementedError"
   ]
  },
  {
   "cell_type": "code",
   "execution_count": null,
   "metadata": {},
   "outputs": [],
   "source": [
    "alignment_dataset = r\"C:\\Users\\Henri\\Documents\\GitHub\\AlignmentSearch\\data\\alignment_texts.jsonl\"\n",
    "\n",
    "worthwhile_sources = [\n",
    "    # 'alignment forum',\n",
    "    # 'lesswrong',\n",
    "    'manual',\n",
    "    # 'GitHub',\n",
    "    'https://jsteinhardt.wordpress.com',\n",
    "    'https://intelligence.org',\n",
    "    'https://www.yudkowsky.net',\n",
    "    'distill'\n",
    "]\n"
   ]
  },
  {
   "cell_type": "code",
   "execution_count": 15,
   "metadata": {},
   "outputs": [
    {
     "name": "stdout",
     "output_type": "stream",
     "text": [
      "{'title': 'Webinar with Congressman Ro Khanna: Challenges in IT Law and Governance', 'title_detail': {'type': 'text/plain', 'language': None, 'base': 'https://aipulse.org/feed/', 'value': 'Webinar with Congressman Ro Khanna: Challenges in IT Law and Governance'}, 'links': [{'rel': 'alternate', 'type': 'text/html', 'href': 'https://aipulse.org/webinar-with-congressman-ro-khanna-challenges-in-it-law-and-governance/'}], 'link': 'https://aipulse.org/webinar-with-congressman-ro-khanna-challenges-in-it-law-and-governance/', 'authors': [{'name': 'Laura Elbaum'}], 'author': 'Laura Elbaum', 'author_detail': {'name': 'Laura Elbaum'}, 'published': 'Mon, 22 Feb 2021 16:40:08 +0000', 'published_parsed': [2021, 2, 22, 16, 40, 8, 0, 53, 0], 'tags': [{'term': 'Webinars', 'scheme': None, 'label': None}], 'id': 'https://aipulse.org/?p=712', 'guidislink': False, 'summary': '<p>On Friday, February 19, the AI Pulse project hosted a web conversation on current issues in IT Governance with Congressman Ro Khanna, a leading progressive thinker on a wide range of law and technology issues in the United States Congress.</p>\\nThe post <a href=\"https://aipulse.org/webinar-with-congressman-ro-khanna-challenges-in-it-law-and-governance/\">Webinar with Congressman Ro Khanna: Challenges in IT Law and Governance</a> first appeared on <a href=\"https://aipulse.org\">AI Pulse</a>.', 'summary_detail': {'type': 'text/html', 'language': None, 'base': 'https://aipulse.org/feed/', 'value': '<p>On Friday, February 19, the AI Pulse project hosted a web conversation on current issues in IT Governance with Congressman Ro Khanna, a leading progressive thinker on a wide range of law and technology issues in the United States Congress.</p>\\nThe post <a href=\"https://aipulse.org/webinar-with-congressman-ro-khanna-challenges-in-it-law-and-governance/\">Webinar with Congressman Ro Khanna: Challenges in IT Law and Governance</a> first appeared on <a href=\"https://aipulse.org\">AI Pulse</a>.'}, 'content': [{'type': 'text/html', 'language': None, 'base': 'https://aipulse.org/feed/', 'value': '<div class=\"dkpdf-button-container\" style=\"text-align: center ;\">\\n\\n\\t\\t<a class=\"dkpdf-button\" href=\"https://aipulse.org/feed/?pdf=712\" target=\"_blank\"><span class=\"dkpdf-button-icon\"><i class=\"fa fa-file-pdf-o\"></i></span> Download as PDF</a>\\n\\n\\t</div>\\n\\n\\n\\n\\n\\n<p>On Friday, February 19, the AI Pulse project hosted a web conversation on current issues in IT Governance with Congressman Ro Khanna, a leading progressive thinker on a wide range of law and technology issues in the United States Congress. Rep. Khanna represents California’s 17th district in the House of Representatives, where he chairs the Environment Subcommittee of the House Committee on Oversight and Reform, and serves as Deputy Whip of the Congressional Progressive Caucus. He is a passionate advocate of using technology to bring economic opportunity to rural and small-town America. In 2018, at the request of Speaker Pelosi, he authored a widely praised set of principles for an Internet Bill of Rights. Prior to serving in Congress, Rep. Khanna worked as an intellectual-property lawyer and served in the Obama Administration as Deputy Assistant Secretary of Commerce. He holds an undergraduate degree in Economics from the University of Chicago and a J.D. from Yale.</p>\\n<p>Joining Rep. Khanna in conversation were Professors Eugene Volokh and Ted Parson of the UCLA School of Law. The conversation ranged over a wide set of law and technology issues, including market concentration and antitrust in the IT sector, first-amendment issues associated with online speech and content moderation, and online privacy regulation and related consumer online rights.</p>\\n<p>The recording of the event is available <a href=\"https://www.youtube.com/watch?v=tAKzefppQbo&amp;feature=youtu.be\" rel=\"noopener\" target=\"_blank\">here</a>.</p>\\n<p>We plan a continuing series of informal web conversations on various interesting and fun questions related to the societal impacts, governance, and ethics of AI/ML and related data and computational technologies. Stay tuned for these – or to be added to our mailing list for announcements of future events, please send an email to aipulse@law.ucla.edu.</p>The post <a href=\"https://aipulse.org/webinar-with-congressman-ro-khanna-challenges-in-it-law-and-governance/\">Webinar with Congressman Ro Khanna: Challenges in IT Law and Governance</a> first appeared on <a href=\"https://aipulse.org\">AI Pulse</a>.'}], 'post-id': '712', 'text': 'Webinar with Congressman Ro Khanna: Challenges in IT Law and Governance\\n\\n\\n Download as PDF\\n\\nOn Friday, February 19, the AI Pulse project hosted a web conversation on current issues in IT Governance with Congressman Ro Khanna, a leading progressive thinker on a wide range of law and technology issues in the United States Congress. Rep. Khanna represents California’s 17th district in the House of Representatives, where he chairs the Environment Subcommittee of the House Committee on Oversight and Reform, and serves as Deputy Whip of the Congressional Progressive Caucus. He is a passionate advocate of using technology to bring economic opportunity to rural and small-town America. In 2018, at the request of Speaker Pelosi, he authored a widely praised set of principles for an Internet Bill of Rights. Prior to serving in Congress, Rep. Khanna worked as an intellectual-property lawyer and served in the Obama Administration as Deputy Assistant Secretary of Commerce. He holds an undergraduate degree in Economics from the University of Chicago and a J.D. from Yale.\\nJoining Rep. Khanna in conversation were Professors Eugene Volokh and Ted Parson of the UCLA School of Law. The conversation ranged over a wide set of law and technology issues, including market concentration and antitrust in the IT sector, first-amendment issues associated with online speech and content moderation, and online privacy regulation and related consumer online rights.\\nThe recording of the event is available here.\\nWe plan a continuing series of informal web conversations on various interesting and fun questions related to the societal impacts, governance, and ethics of AI/ML and related data and computational technologies. Stay tuned for these – or to be added to our mailing list for announcements of future events, please send an email to aipulse@law.ucla.edu.The post Webinar with Congressman Ro Khanna: Challenges in IT Law and Governance first appeared on AI Pulse.', 'source': 'https://aipulse.org', 'source_type': 'wordpress-blog'}\n"
     ]
    }
   ],
   "source": [
    "dataset = Dataset(path=alignment_dataset, sources=worthwhile_sources, max_data_length=1e4, get_embeddings=False)"
   ]
  },
  {
   "cell_type": "code",
   "execution_count": 14,
   "metadata": {},
   "outputs": [
    {
     "name": "stdout",
     "output_type": "stream",
     "text": [
      "Girl Intercorrupted\n",
      "\n",
      "This is a 4-of-13 chapter sample of “A Girl Corrupted by the Internet is the Summoned Hero?!” The remainder is available at Gumroad and Amazon .\n",
      "Table of Contents\n",
      "Prologue: A virgin maiden is already corrupted?!The chance of success is—?!The key to power is—!?The rebellion has already lost?!I’m going to be sacrificed?!Is this my story’s shocking twist?!The true key to power is—?!Do even I dare?!Am I going to wimp out?!Do you really think you can?!The meaning of probability is—You did it because—?!The final bargain!\n",
      "©2016 by Eliezer Yudkowsky.\n",
      "Foreword\n",
      "This is my attempt at translating a light novel from Japan, only the original source material doesn’t exist.\n",
      "The light novel is a Japanese custom which aims at easy reading. I think of it as an art form in which only the story’s bones remain.\n",
      "If you want to read a translation of a Japanese light novel, I liked “Evil God Average” (Jashin Average) as translated by the Fifth Holy Sheeprabbit. That might help you to appreciate this story, since it conveys the genre to which this story belongs.\n",
      "For those of you who haven’t read any light novels before:\n",
      "A remarkable portion of light novels are about people being transported from one world to another. Japan has easier ideas about copyright, so their literary system more often contains many works on the same theme.\n",
      "That theme began with heroes from our world being transported to another world to fight the Demon Lord.\n",
      "Now there are light novels about the Demon Lord dying, being reincarnated in our world as a high-schooler, and then being transported to another world as one of the adversarial side characters in a romantic video game. Or the hero is a man from our world, reincarnated as an elven girl, who has already become an absurdly powerful adventurer, but now works incognito as a receptionist. I’m not joking.\n",
      "Light novels also have a unique writing style I’m trying to imitate, including this easy style of author’s notes. I don’t think I do it well (laughs). Maybe I’ll improve?\n",
      "This story was supposed to be completely silly. Please keep that in mind. I failed at that by the end of the second chapter, but still, that’s the origin.\n",
      "The main character doesn’t always agree with the author about decision theory. It’d be silly to think we’d agree about things that are less objective.\n",
      "I have nothing else to say about this story for now, so you may as well read it.\n",
      "— Eliezer Yudkowsky, Nov 2015\n",
      "1. Prologue: A virgin maiden is already corrupted?!\n",
      "My family name is Yugano. My given name is Yuuki. I have no redeeming qualities.\n",
      "The boys I meet fail to interest me, and I haven’t kissed any of them. This is because the Internet has ruined my way of looking at the world.\n",
      "In the beginning, seeing pics of a muscular man with no shirt was enough to make me breathe faster. If I came across a picture of a man being nude, I would flinch away in horror.\n",
      "Over time, I moved on to pictures of nude men, then two men doing things to one another. As I became numb to one perversion, I had to find something more extreme to arouse my interest. Now I have no interest in normal forms of youthful misbehavior.\n",
      "You say I should have refrained? Back then I was too young to know better, and now this untouched maiden has been so thoroughly ruined that I might as well go further.\n",
      "I blame the government and my parents. In the very beginning, they should have stopped that innocent girl from seeing perverted things online.\n",
      "Now I spend hours every day browsing the Internet, doing you-know-what to myself.\n",
      "At this point I’d like to deliver a sharp remark about how stories depict being transported to another world. You know the scene I’m talking about: the Hero arrives surrounded by holy clerics casting the Summoning Spell, with well-dressed royalty and future adventuring companions looking on.\n",
      "In every one of those cases, the Summoning catches the Hero at a time when the Hero is standing up and fully dressed.\n",
      "Is this realistic? Would a Hero be Summoned only at such a convenient time? I bet you spend much of your day sitting down. If the Summoning caught you then, wouldn’t you materialize unsupported, and fall on your ass?\n",
      "Imagine being a Hero being transported while they’re on the toilet. They materialize in a sitting position with their underwear around their ankles, then fall over with their knees still bent and pants down. Their butt hasn’t been wiped, and it leaves a smear on the ground. Maybe the Summoned Hero is right in the middle of pooping out a big one.\n",
      "What happened to me was even more embarrassing than that.\n",
      "It involved my usual Internet habits.\n",
      "That was the first step of my journey into another world.\n",
      "2. The chance of success is—?!\n",
      "The cold was my first startling observation. A chill wind bit into my exposed thighs and unmentionables like… like a very cold knife. I’m sorry, I’m distracted right now and can’t think up a clever metaphor.\n",
      "The next thing my eyes saw was the other people staring at my vulnerable body. There were five adults in white robes holding up their staves, silver halos glowing above their heads. Beyond them, a dirty old man in leather and chains – no, I mean leather armor and chainmail, don’t misunderstand me, and when I say ‘dirty’ I mean that he had stains on his armor.\n",
      "Next to the old warrior, a young lad my age with a sword belted at his side, with a clean and finely made shirt. He was looking away from me and wringing his hands like an eight-year-old girl who just saw a crayon drawing of private parts.\n",
      "Around me, a circle of huge standing stones.\n",
      "Beyond that, walls of grass, the slopes of rising hills.\n",
      "And below me, a circular stone plate inscribed with curves in a fading silver glow.\n",
      "Immediately after I arrived, there was a lot of shrieking… you know, let’s not talk about this. I’m choosing to repress these memories for the rest of my life. Let’s skip to the part where somebody has given me a towel-like cloth to hold around myself.\n",
      "So there I am, standing, wrapped in a towel; aside from that my surroundings are as previously specified.\n",
      "I have many issues with this. I am setting aside my issues and listening to the words of the white-robed mage with the brightest halo. I think this part might be important.\n",
      "“Yugano Yuuki,” the white mage intones, “you have been Summoned here to overturn the greatest evil of this world, the Wicked Emperor.”\n",
      "The old warrior in chain-mail speaks up. “How is this girl supposed to do that, exactly? Is there more to her than is apparent?”\n",
      "“I have similar questions,” I say. I’d better have arrived here with some incredible cheat-like advantage, or this world is amazingly doomed.\n",
      "“That’s impossible for me to know, but she is certainly the Summoned Hero,” says the mage.\n",
      "“Could there have been an error in the Summoning Spell?” asks chainmail-wearer. “And if so, is it too late to send her back and get another one?” He looks back at me. “No offense, but it’s for the sake of everyone.”\n",
      "None taken.\n",
      "The white mage casts a glance in my direction. “The Spell can only be worked once every three hundred years, in a certain place. But this Great Summoning Spell we have just cast should, without fail, have selected the Hero with the best chance to overturn the Wicked Emperor who has cruelly subjugated half the world.”\n",
      "That’s some convenient exposition, but I’ll excuse it since you’re stating it for my sake.\n",
      "“Maybe our best chance of defeating the Wicked Emperor still isn’t good?” Again warrior-guy echoes my own thoughts. “Even leaving aside the condition in which she arrived, I would expect the most skilled person to be older, or in the prime of their adulthood.”\n",
      "The white-clad mages glance at one another, looking concerned. “There’s a divination that’s itself part of the Summoning Spell,” says another mage, a woman. “To state it clearly, if the Summoned Hero is the person with the greatest probability of defeating the Wicked Emperor, then the Spell itself must determine that probability. Traditionally the probability isn’t observed since then it becomes a self-fulfilling prophecy, but in this case…” The white mage grimaces. “She doesn’t seem like the Hero we were expecting. I agree we ought to check what the Spell determined as her probability of victory.”\n",
      "The chainmail-man frowns. “Why wouldn’t you always check the probability? Is it dangerous to do so?”\n",
      "Another white-robed mage speaks up. “Imagine that someone has a ninety percent chance of defeating the Wicked Emperor if they aren’t told anything. Then they’re told they have a ninety percent probability of winning. They might feel relieved of the need to make a desperate effort, so their true probability of winning would become much lower. Since the probability has to be consistent, that can’t happen. On the other hand, suppose we’re told our chance of winning is only two percent. Then, feeling already defeated, our chances of victory might drop that far. Given those two possible answers, since the probability must be consistent, the observed probability would be two percent. So it’s best to decide in advance not to peek at the probability that the Spell predicts… still, this case does seem like an exception. Just be sure to keep the number to yourselves, and try not to let it affect your decisions.”\n",
      "The prince-boy and the old man both look puzzled. As for me, since I come from Earth where there are time travel movies, I’ve followed the reasoning without difficulty.\n",
      "The five white mages begin chanting. Staves are raised, the golden halos above their heads grow brighter. I suppose I should be more impressed, but it’s really not much in the way of special effects.\n",
      "The mages lower their staves. Most of them look rather surprised.\n",
      "“Her chance of overthrowing the Wicked Emperor is… one hundred percent?!”\n",
      "Eh?\n",
      "You say that’s my probability of winning even after being told my probability of winning?\n",
      "Then I might as well slack off and do what I want, huh.\n",
      "It may be an awful thing to say with the fate of the world at stake. But realistically, if I’m the sort of person who’ll be lazy given half a chance, there’s no point in trying my best as a Summoned Hero if I’m going to win even after taking into account the changes in my behavior caused by knowing that I’m going to win.\n",
      "I wonder what amazing cheat-like ability I’ll discover, and whether it can be abused for other purposes besides overthrowing the Wicked Emperor?\n",
      "3. The key to power is—!?\n",
      "Magic powers, magic powers, I’m going to get my magic po~wers!\n",
      "I don’t mind telling you that there was a spring in my step as I went skipping toward the next ceremony that had already been prepared for me.\n",
      "While I haven’t resolved my numerous issues, I do like how everything is so straightforward here. Compared with other tales I’ve read of being summoned to another world, I’m glad I didn’t wind up with a harder case.\n",
      "…I hope I didn’t just curse myself by thinking that.\n",
      "By the way, I seem to be in a rebel encampment that’s hidden between several hills and therefore not visible from a distance. At least, this is what I infer from watching people polishing their weapons.\n",
      "Soon I come upon yet another group of mages, gold-robed people that seem to be mostly younger women. The halos over their heads are only faintly visible. Chainmail-guy, noble-boy, and one of those archmage types are following behind me.\n",
      "Before me is a stone plate with inscribed lines that look much less elaborate than the circle I arrived in.\n",
      "“It’s important that you understand the purpose of this ceremony,” says one of the women in gold robes. She casts a doubtful look at my towel-clothing and the nubile body I’m keeping underneath it. “They say to assume a Summoned Hero doesn’t know anything, so should I start with the very basics?”\n",
      "I dislike rhetorical questions, so whenever I hear one I always give the less expected answer. “No, you should skip straight to the most advanced part without any preliminaries.”\n",
      "“Well, the very basics are as follows,” says the gold-robe mage. “The magic of the world is divided into Evil magic aligned with Demons and Good magic aligned with Angels. In the same way that those who now rule the world wield power based on wickedness, the holy magic of this Rebellion comes from goodness. A good mage derives her power from contracting with an Angelic being, which agrees to lend you power in exchange for you committing yourself to purity.”\n",
      "Well, that explains the halos – ah, ah, let’s hold on for a minute or possibly several weeks. “Just what do you mean by purity?”\n",
      "She looks puzzled. “I mean behavior that is holy and good as opposed to unholy and not good.”\n",
      "“As a Summoned Hero from another world, it’s impossible for me to know whether I understood what you meant by that.”\n",
      "“I don’t understand what you mean by saying that you don’t understand what I mean. Even if the people in your world are more wicked than the people in this one, they should still know what righteousness is.”\n",
      "My philosophy textbook had a clear idea of what righteousness is: namely, righteousness is explicitly stating your definitions. “If I follow a course to overthrowing the Wicked Emperor for the benefit of all peoples in this world, harm nobody who doesn’t harm anyone else, and otherwise do what I want, is that sufficient?”\n",
      "“Of course not! You can’t just do what you want!”\n",
      "Another gold-robed woman speaks. “To begin with the elementary fundamentals of the basics, to form a contract you must be a virgin. Then, it goes without saying that sullying yourself with a man would cause your Angel to flee from you.”\n",
      "I look at the archmage. He’s seen how I was when I arrived here.\n",
      "“You are still untouched by men, aren’t you?” The archmage speaks gently, but with a worried countenance. “Even if you’ve done certain sinful things that you mustn’t do again?”\n",
      "“I haven’t so much as kissed a boy. However, I am worried that my thoughts may be so sinful that an Angel won’t want to contract with me.” Honestly I’m worried that my Angel will burst into flames… no, it will explode.\n",
      "Several of the women clear up at this, like they finally understand what’s happening. “Oh, that’s nothing to worry about, dear sister!” says the one who spoke first. “It means more for a poor farmer to pass up a temptation of ten silver than for a rich official to pass up a bribe of a hundred gold. So long as you do nothing wrong, being more tempted by sin makes it a holier deed to commit yourself to purity… ah, I see you’re smiling now that you realize the Angelic Powers are forgiving.”\n",
      "Of course that’s why I’m smiling. There’s no other reason at all.\n",
      "The more corrupt thoughts you start with, the more power you gain from promising to be pure, is what I think I heard you say?\n",
      "There’s one thing I’d better check, though. “It’s okay for a white mage to retire, isn’t it? There’s no penalty if you decide afterward to tell your angel to go away, so you can settle down with a nice husband and make some children?”\n",
      "The maidens are blushing. “Of – of course not! Even though that’s not quite, quite…”\n",
      "One hundred percent chance of victory, here I co~me.\n",
      "Though I am a little worried. I’ve never gone more than a day or two without giving myself release. Even when I tried to deny myself for perverted reasons, my willpower failed. I hope that I can clear up this Wicked Emperor matter in a month, and not go insane with repressed desires before then.\n",
      "The ceremony for obtaining my ma~gic po~wers is simple. The gold-robed women are holding their hands and singing a short melody, and the stone seal is glowing silver like the colors of their halos. I think someone from this world would find this very holy and uplifting, but I’ve heard electronic-orchestral chorales with better singing.\n",
      "My Angel appears in a burst of light and… oh, this isn’t fair. The Angel is male, and his robes are clinging to his form, which is thin and fair. The beautiful face above is one of supreme innocence. Even for someone who’s seen many Internet pictures, encountering a true Angel is a moving experience.\n",
      "This Angel… this Angel is just begging for someone to corrupt him and do unspeakable things to him.\n",
      "Normally women fear what men might do to them, which is the reason I refrained from fulfilling my awful desires back when they were still in the realm of possibility. But if this Angel is really a creature of purity, then it follows that he wouldn’t do anything bad to me. In other words, he’d be defenseless before me.\n",
      "But if I do tha~at, he’ll run away.\n",
      "The archmage is whispering in my ear and I’m repeating the words of the ancient contract. Hey Angel-butt, I’ll refrain from my naughty desires if you grant me supreme magical power to stomp the Wicked Emperor, yo? This bargain is needlessly lengthy for accomplishing that much.\n",
      "The Angel speaks his own lines and his dulcet, young, boyish tones make my insides twitch. Knowing I’m not allowed to do a-ny-thing about that, even to myself, makes my insides twitch more. This is going to be a long month for me.\n",
      "The white light of the seal fades, and now a cute little version of my Angel is hovering over my shoulder where only I can see him.\n",
      "“Listen well to the counsel of your Angel,” the archmage says gravely. “The righteous action is not always what we must do to save our people. But while your Angel is with you, you will always know the difference and what you are sacrificing when you choose otherwise.”\n",
      "My Angel’s eyes are wide and he’s waving his hands frantically and making a high-pitched EEEEEEEE sound, but he hasn’t actually burst into flames so I’ll call this contract a success.\n",
      "4. The rebellion has already lost?!\n",
      "“Disaster! Emergency! It’s terrible!”\n",
      "People are running around shrieking things like this. Apparently the Wicked Emperor’s military forces have surrounded this camp and they outnumber us by three hundred million billion trillion to one.\n",
      "Hey, idiot with the white robes and long staff, is it the usual practice that the Hero is Summoned to overthrow the current greatest evil?\n",
      "Is it true that the Great Summoning can only be performed at this time, in this place, within the circle of standing stones?\n",
      "DIDN’T YOU IMAGINE THE WICKED EMPEROR MIGHT DO SOMETHING ABOUT THAAAT-T-T!?\n",
      "This is definitely a punishment from the vengeful gods because I let myself look forward to easy times.\n",
      "“Summoned Hero!” cries the old warrior with the chainmail that’s been following me around. “Yugano Yuuki! What must we do? How can we survive?”\n",
      "My mind races rapidly and I seize on the first answer that comes to mind. “Quick, grab all the pairs of underpants you can and wear them over your heads! Then, attack the Enemy with watermelons!”\n",
      "People stare at me.\n",
      "Maybe answering with the very first thing that came to mind was a bit much, but—\n",
      "“I have a one hundred percent probability of overturning the Wicked Emperor,” I point out. “It’s not that every possible choice we could make, would lead to victory. But whatever I end up deciding to actually do, that particular course of action has a one hundred percent chance of victory. So if we actually attack with watermelons, we’ll definitely win!”\n",
      "The old warrior clutches at his head. “Leaving aside all my other objections, we don’t even have any watermelons!”\n",
      "What? This is disastrous! I can’t think of any different plans! Or rather, all my other plans involve having not gotten into this situation in the first place!\n",
      "“We’re doomed!” shrieks a white mage running past. A second later, he’s running past again in the opposite direction. “Doomed, I tell you, doomed!”\n",
      "The old man pulls himself together, a grimness settling over him. “The absolute goal is to allow you to escape, the Summoned Hero who will certainly succeed. Even if I and all this camp must sacrifice ourselves to break out of this encirclement, it’s all right so long as you go free.”\n",
      "H-hey! What are you saying? Should so many people die to save me, a girl with no redeeming qualities? I’d never sleep again!\n",
      "“I’ll make you up a pack with weapons,” the old man is saying. “Trust nobody, for the Wicked Emperor will seed this area with spies. Live off the forest, even if you eat seeds and berries for years, it’s wiser than appearing before a human being. Live, and in time, be the certain instrument of our vengeance!”\n",
      "I already had my doubts about this course of action, but that settles it. Anything that involves living without toilet paper is not a realistic option for me. Besides, although I’m new to my Angel, there’s no doubt I will be an overpowered character. “I have a better idea. I’m the girl with a one hundred percent chance of victory, so let’s reverse your strategy. Why don’t I hold off the Wicked Emperor’s armies, while the rest of you make your escape?”\n",
      "The old man is speechless at my brilliance. His mouth opens and shuts several times.\n",
      "The Angel on my shoulder is nodding approvingly. Yes, this noble act of mine must be a righteous deed by local standards.\n",
      "“Listen,” I say, “if I know I have a one hundred percent chance of success regardless, I won’t choose a course where people die for me along the way.” Who knows, maybe I can close out this quest in just one day. If there’s a novel with me as an overpowered heroine, that’s definitely how it should go!\n",
      "And tha~at’s how I found myself on a hill gazing down sternly at the Wicked Emperor’s military forces.\n",
      "Ha, these thousands of cavalry on their shining horses, the countless bowmen glowering at me, and foot soldiers stretching over the hills and out of sight—you don’t impress me. I’ve seen pictures of real armies! With guns, and helicopters, and tanks on aircraft carriers!\n",
      "Seeing that your enemy has fielded a single girl standing alone on this hill, are the looks on your faces fearful? Of course not! Bewildered contempt is more like it! But soon, those looks will change!\n",
      "Oh dear, what’s this? I seem to have acquired a straggler. Are you under the impression you’ve joined my party without my say-so? That’s very forward of you.\n",
      "“I won’t let you stand alone!” The noble-looking boy says that, holding his sword aloft and, yes, it’s flashing in the sun.\n",
      "Are you under the impression this is cool? Aragorn-sama from the Lord of the Rings movies is cool when he does this. You’re just a kid.\n",
      "“My name is Teragon Omoia, and I’ll be with you to the end, Yugano Yuuki.” He’s trembling, but still manages to smile.\n",
      "I can’t let myself be outdone by this upstaging interloper. With a breezy gesture, I flip my hair behind me so that the wind can blow around my glossy strands. “Oi, oi, what’s this about endings? I am Summoned Hero Yuuki, the overpowered character with a one hundred percent chance of success! I’ll definitely win this day! Because the sheer perversion of the desires I’m repressing to be pure, is something that nobody from this world can possibly beat! I’ll show you the power of a girl that’s been corrupted by the Internet!”\n",
      "The boy is looking even more nervous than he was before. I point at the army before me with a commanding gesture, and toss my head so my hair will blow nobly in the wind some more. “My Angel! This is my command under our compact of purity! Knock them all unconscious, but don’t kill them!” I cup my hands together to emit a mighty energy blast. “ETERNAL… RAINBOW… SHIMMERING… LASER… THUNDER…”\n",
      "…anyway, that’s how I ended up tightly bound on a cart heading back to the Wicked Empire.\n",
      "\n",
      "To read the rest of this book, visit:\n",
      "Gumroad: http://gumroad.com/l/GirlCorruptedAmazon: http://www.amazon.com/Girl-Corrupted-Internet-Summoned-Hero-ebook/dp/B01B2BP726\n"
     ]
    }
   ],
   "source": [
    "print(dictionary[0])"
   ]
  },
  {
   "cell_type": "code",
   "execution_count": null,
   "metadata": {},
   "outputs": [],
   "source": []
  }
 ],
 "metadata": {
  "kernelspec": {
   "display_name": "Python 3",
   "language": "python",
   "name": "python3"
  },
  "language_info": {
   "codemirror_mode": {
    "name": "ipython",
    "version": 3
   },
   "file_extension": ".py",
   "mimetype": "text/x-python",
   "name": "python",
   "nbconvert_exporter": "python",
   "pygments_lexer": "ipython3",
   "version": "3.10.6 (tags/v3.10.6:9c7b4bd, Aug  1 2022, 21:53:49) [MSC v.1932 64 bit (AMD64)]"
  },
  "orig_nbformat": 4,
  "vscode": {
   "interpreter": {
    "hash": "369f2c481f4da34e4445cda3fffd2e751bd1c4d706f27375911949ba6bb62e1c"
   }
  }
 },
 "nbformat": 4,
 "nbformat_minor": 2
}
